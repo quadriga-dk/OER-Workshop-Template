{
 "cells": [
  {
   "cell_type": "markdown",
   "id": "9c8399a5",
   "metadata": {},
   "source": [
    "# Interaktivität mit `ipywidgets`"
   ]
  },
  {
   "cell_type": "markdown",
   "id": "2a068726",
   "metadata": {},
   "source": [
    "````{margin}\n",
    "```{admonition} Hinweis\n",
    ":class: hinweis\n",
    "`ipywidgets` sind in der statischen Website-Ansicht von Jupyter Book nicht interaktiv.\n",
    "```\n",
    "````"
   ]
  },
  {
   "cell_type": "code",
   "execution_count": 1,
   "id": "d693ba79",
   "metadata": {},
   "outputs": [
    {
     "data": {
      "application/vnd.jupyter.widget-view+json": {
       "model_id": "92c6f85d0f784a3f897ad91540132ce1",
       "version_major": 2,
       "version_minor": 0
      },
      "text/plain": [
       "interactive(children=(Dropdown(description='b', options=(8, 16, 32, 64, 128), value=8), Output()), _dom_classe…"
      ]
     },
     "metadata": {},
     "output_type": "display_data"
    }
   ],
   "source": [
    "import sys\n",
    "from ipywidgets import interact\n",
    "\n",
    "@interact(b=[8, 16, 32, 64, 128])\n",
    "def bits(b):\n",
    "    if sys.maxsize == 2**(b-1) - 1:\n",
    "        print(\"Ihre CPU rechnet mit\", b, \"Bit.\")\n",
    "        print(\"Die größte darstellbare Ganzzahl ist\", 2**(b-1) - 1)\n",
    "        print(\"Die kleinste darstellbare Ganzzahl ist\", -2**(b-1))\n",
    "    else:\n",
    "        print(\"Probieren Sie einen anderen Wert für b.\")"
   ]
  },
  {
   "cell_type": "code",
   "execution_count": null,
   "id": "252d07d4",
   "metadata": {},
   "outputs": [],
   "source": []
  },
  {
   "cell_type": "markdown",
   "id": "e3c7ed61",
   "metadata": {},
   "source": []
  }
 ],
 "metadata": {
  "kernelspec": {
   "display_name": ".venv",
   "language": "python",
   "name": "python3"
  },
  "language_info": {
   "codemirror_mode": {
    "name": "ipython",
    "version": 3
   },
   "file_extension": ".py",
   "mimetype": "text/x-python",
   "name": "python",
   "nbconvert_exporter": "python",
   "pygments_lexer": "ipython3",
   "version": "3.12.10"
  }
 },
 "nbformat": 4,
 "nbformat_minor": 5
}
